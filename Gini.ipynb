{
 "cells": [
  {
   "cell_type": "markdown",
   "metadata": {},
   "source": [
    "# UNDERSTANDING THE GINI INDEX\n",
    "\n",
    "30/01/2020 - Davide di Nello - ECB S2S Training\n"
   ]
  },
  {
   "cell_type": "code",
   "execution_count": 1,
   "metadata": {},
   "outputs": [],
   "source": [
    "import numpy as np\n",
    "import matplotlib.pyplot as plt\n",
    "from ipywidgets.widgets import interact, IntSlider, fixed"
   ]
  },
  {
   "cell_type": "code",
   "execution_count": 2,
   "metadata": {},
   "outputs": [],
   "source": [
    "def w_gini(weight, freq):\n",
    "    \"\"\" \n",
    "    Weighted Gini Index for binary classification\n",
    "    Input: weight - float containing class 1 weight in relative terms [0,1]\n",
    "           freq - ratio between elements of class 1 and class 2 [0,1]\"\"\"\n",
    "    tot = weight*freq + (1-weight)*(1-freq)\n",
    "    return 1-(weight*freq/tot)**2 - ((1-weight)*(1-freq)/tot)**2\n",
    "\n",
    "def w_entropy(weight, freq):\n",
    "    \"\"\" \n",
    "    Weighted Entropy for binary classification\n",
    "    Input: weight - float containing class 1 weight in relative terms [0,1]\n",
    "           freq - ratio between elements of class 1 and class 2 [0,1]\"\"\"\n",
    "    tot = weight*freq + (1-weight)*(1-freq)\n",
    "    e = -(weight*freq/tot)*np.log(weight*freq/tot) - ((1-weight)*(1-freq)/tot)*np.log((1-weight)*(1-freq)/tot)\n",
    "    if np.isnan(e):\n",
    "        return 0\n",
    "    else:\n",
    "        return e\n",
    "    \n",
    "def w_accuracy(weight, freq):\n",
    "    \"\"\" \n",
    "    Weighted Classification Error for binary classification\n",
    "    Input: weight - float containing class 1 weight in relative terms [0,1]\n",
    "           freq - ratio between elements of class 1 and class 2 [0,1]\"\"\"\n",
    "    tot = weight*freq + (1-weight)*(1-freq)\n",
    "    return min((weight*freq/tot),((1-weight)*(1-freq)/tot))\n",
    "\n",
    "def wsum(a,w):\n",
    "    \"\"\" \n",
    "    Returns the weighted sum of the first two elements of a\n",
    "    Input: a - vector containing two elements\n",
    "           w - relative weight of the first element [0,1]\"\"\"\n",
    "    return a[0]*w+a[1]*(1-w)"
   ]
  },
  {
   "cell_type": "code",
   "execution_count": 3,
   "metadata": {},
   "outputs": [],
   "source": [
    "def interactive_plot(Function,weight,n1,n2,l1,l2):\n",
    "    \"\"\" \n",
    "    Defines an interactive plot to visualize the splitting metrics for Tree based methods in a \n",
    "    binary classification setting\n",
    "    Input: Function - a metric function that receives a weight and a class fraction and returns a score\n",
    "           weight - float containing the relative weight of class 1 [0,1]\n",
    "           n1 - int containing the number of elements of class 1 in the parent node\n",
    "           n2 - int containing the number of elements of class 2 in the parent node\n",
    "           l1 - int containing the number of elements of class 1 in the left child node\n",
    "           l2 - int containing the number of elements of class 2 in the right child node\"\"\"\n",
    "    f = (np.arange(101))/100\n",
    "    f1 = Function\n",
    "    w = weight\n",
    "    g1 = [f1(w,y) for y in f]\n",
    "    \n",
    "    p = [n1,n2]\n",
    "    cl = [l1,l2]\n",
    "    cr = [n1-l1,n2-l2]\n",
    "\n",
    "    f_1 = p[0]/sum(p)\n",
    "    f_l = cl[0]/sum(cl)\n",
    "    f_r = cr[0]/sum(cr)\n",
    "\n",
    "    plt.plot(f,g1)\n",
    "    plt.plot(f_l, f1(f_l, w), 'rx')\n",
    "    plt.plot(f_r, f1(f_r, w), 'rx')\n",
    "    plt.plot(f_l*wsum(cl,w)/wsum(p,w) + f_r*wsum(cr,w)/wsum(p,w), \n",
    "             wsum(cl,w)/wsum(p,w)*f1(f_l, w) + wsum(cr,w)/wsum(p,w)*f1(f_r, w) , 'go')\n",
    "    plt.plot(f_1, f1(f_1, w), 'ro')\n"
   ]
  },
  {
   "cell_type": "code",
   "execution_count": 6,
   "metadata": {
    "scrolled": false
   },
   "outputs": [],
   "source": [
    "# Define interactive elements and their relationships\n",
    "\n",
    "n1=IntSlider(min=0, max=50, step=1, value=25, description='Parent C1')\n",
    "n2=IntSlider(min=0, max=50, step=1, value=25, description='Parent C2')\n",
    "l1=IntSlider(min=0, max=50, step=1, value=10, description='Left C1')\n",
    "l2=IntSlider(min=0, max=50, step=1, value=10, description='Left C2')\n",
    "\n",
    "\n",
    "def update_l1_range(*args):\n",
    "    l1.max = n1.value\n",
    "def update_l2_range(*args):\n",
    "    l2.max = n2.value\n",
    "\n",
    "    \n",
    "l1.observe(update_l1_range, 'value')\n",
    "l2.observe(update_l2_range, 'value')"
   ]
  },
  {
   "cell_type": "markdown",
   "metadata": {},
   "source": [
    "#### See how the value of the metrics change based on the number of elements from the two classes in the parent and children nodes:"
   ]
  },
  {
   "cell_type": "code",
   "execution_count": 7,
   "metadata": {},
   "outputs": [
    {
     "data": {
      "application/vnd.jupyter.widget-view+json": {
       "model_id": "3620374734114d6999ad3e38a14ba992",
       "version_major": 2,
       "version_minor": 0
      },
      "text/html": [
       "<p>Failed to display Jupyter Widget of type <code>interactive</code>.</p>\n",
       "<p>\n",
       "  If you're reading this message in the Jupyter Notebook or JupyterLab Notebook, it may mean\n",
       "  that the widgets JavaScript is still loading. If this message persists, it\n",
       "  likely means that the widgets JavaScript library is either not installed or\n",
       "  not enabled. See the <a href=\"https://ipywidgets.readthedocs.io/en/stable/user_install.html\">Jupyter\n",
       "  Widgets Documentation</a> for setup instructions.\n",
       "</p>\n",
       "<p>\n",
       "  If you're reading this message in another frontend (for example, a static\n",
       "  rendering on GitHub or <a href=\"https://nbviewer.jupyter.org/\">NBViewer</a>),\n",
       "  it may mean that your frontend doesn't currently support widgets.\n",
       "</p>\n"
      ],
      "text/plain": [
       "interactive(children=(Dropdown(description='Function', options=(('Gini', <function w_gini at 0x000000000EF321E0>), ('Classification Error', <function w_accuracy at 0x000000000EF322F0>)), value=<function w_gini at 0x000000000EF321E0>), IntSlider(value=25, description='Parent C1', max=50), IntSlider(value=25, description='Parent C2', max=50), IntSlider(value=10, description='Left C1', max=50), IntSlider(value=10, description='Left C2', max=50), Output()), _dom_classes=('widget-interact',))"
      ]
     },
     "metadata": {},
     "output_type": "display_data"
    },
    {
     "data": {
      "text/plain": [
       "<function __main__.interactive_plot>"
      ]
     },
     "execution_count": 7,
     "metadata": {},
     "output_type": "execute_result"
    }
   ],
   "source": [
    "interact(interactive_plot, Function=[('Gini', w_gini), ('Classification Error', w_accuracy)],\n",
    "                           weight = fixed(0.5), n1=n1, n2=n2,l1=l1,l2=l2)"
   ]
  }
 ],
 "metadata": {
  "kernelspec": {
   "display_name": "Python 3",
   "language": "python",
   "name": "python3"
  },
  "language_info": {
   "codemirror_mode": {
    "name": "ipython",
    "version": 3
   },
   "file_extension": ".py",
   "mimetype": "text/x-python",
   "name": "python",
   "nbconvert_exporter": "python",
   "pygments_lexer": "ipython3",
   "version": "3.6.4"
  }
 },
 "nbformat": 4,
 "nbformat_minor": 2
}
